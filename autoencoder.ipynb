{
  "nbformat": 4,
  "nbformat_minor": 0,
  "metadata": {
    "colab": {
      "name": "autoencoder.ipynb",
      "provenance": []
    },
    "kernelspec": {
      "name": "python3",
      "display_name": "Python 3"
    },
    "accelerator": "GPU"
  },
  "cells": [
    {
      "cell_type": "code",
      "metadata": {
        "id": "Hs2c-t-5tOgN",
        "outputId": "29e31838-95c5-4045-e4b3-30fb8f3b7775",
        "colab": {
          "base_uri": "https://localhost:8080/",
          "height": 34
        }
      },
      "source": [
        "from google.colab import drive\n",
        "drive.mount('/content/drive')"
      ],
      "execution_count": 1,
      "outputs": [
        {
          "output_type": "stream",
          "text": [
            "Mounted at /content/drive\n"
          ],
          "name": "stdout"
        }
      ]
    },
    {
      "cell_type": "code",
      "metadata": {
        "id": "vFj3bjTDttW6"
      },
      "source": [
        "import pandas as pd\n",
        "import numpy as np\n",
        "from tensorflow.keras.layers import Convolution2D,MaxPooling2D,Dropout,Dense,Flatten,Convolution2DTranspose,Reshape\n",
        "from tensorflow.keras.models import Sequential,Model"
      ],
      "execution_count": 45,
      "outputs": []
    },
    {
      "cell_type": "code",
      "metadata": {
        "id": "3Xgpvw3uttZi",
        "outputId": "9f6d9b4d-28f4-461c-d574-63301e4555b0",
        "colab": {
          "base_uri": "https://localhost:8080/",
          "height": 244
        }
      },
      "source": [
        "data=pd.read_csv('/content/drive/My Drive/mnist_train.csv')\n",
        "data.head()"
      ],
      "execution_count": 3,
      "outputs": [
        {
          "output_type": "execute_result",
          "data": {
            "text/html": [
              "<div>\n",
              "<style scoped>\n",
              "    .dataframe tbody tr th:only-of-type {\n",
              "        vertical-align: middle;\n",
              "    }\n",
              "\n",
              "    .dataframe tbody tr th {\n",
              "        vertical-align: top;\n",
              "    }\n",
              "\n",
              "    .dataframe thead th {\n",
              "        text-align: right;\n",
              "    }\n",
              "</style>\n",
              "<table border=\"1\" class=\"dataframe\">\n",
              "  <thead>\n",
              "    <tr style=\"text-align: right;\">\n",
              "      <th></th>\n",
              "      <th>label</th>\n",
              "      <th>1x1</th>\n",
              "      <th>1x2</th>\n",
              "      <th>1x3</th>\n",
              "      <th>1x4</th>\n",
              "      <th>1x5</th>\n",
              "      <th>1x6</th>\n",
              "      <th>1x7</th>\n",
              "      <th>1x8</th>\n",
              "      <th>1x9</th>\n",
              "      <th>1x10</th>\n",
              "      <th>1x11</th>\n",
              "      <th>1x12</th>\n",
              "      <th>1x13</th>\n",
              "      <th>1x14</th>\n",
              "      <th>1x15</th>\n",
              "      <th>1x16</th>\n",
              "      <th>1x17</th>\n",
              "      <th>1x18</th>\n",
              "      <th>1x19</th>\n",
              "      <th>1x20</th>\n",
              "      <th>1x21</th>\n",
              "      <th>1x22</th>\n",
              "      <th>1x23</th>\n",
              "      <th>1x24</th>\n",
              "      <th>1x25</th>\n",
              "      <th>1x26</th>\n",
              "      <th>1x27</th>\n",
              "      <th>1x28</th>\n",
              "      <th>2x1</th>\n",
              "      <th>2x2</th>\n",
              "      <th>2x3</th>\n",
              "      <th>2x4</th>\n",
              "      <th>2x5</th>\n",
              "      <th>2x6</th>\n",
              "      <th>2x7</th>\n",
              "      <th>2x8</th>\n",
              "      <th>2x9</th>\n",
              "      <th>2x10</th>\n",
              "      <th>2x11</th>\n",
              "      <th>...</th>\n",
              "      <th>27x17</th>\n",
              "      <th>27x18</th>\n",
              "      <th>27x19</th>\n",
              "      <th>27x20</th>\n",
              "      <th>27x21</th>\n",
              "      <th>27x22</th>\n",
              "      <th>27x23</th>\n",
              "      <th>27x24</th>\n",
              "      <th>27x25</th>\n",
              "      <th>27x26</th>\n",
              "      <th>27x27</th>\n",
              "      <th>27x28</th>\n",
              "      <th>28x1</th>\n",
              "      <th>28x2</th>\n",
              "      <th>28x3</th>\n",
              "      <th>28x4</th>\n",
              "      <th>28x5</th>\n",
              "      <th>28x6</th>\n",
              "      <th>28x7</th>\n",
              "      <th>28x8</th>\n",
              "      <th>28x9</th>\n",
              "      <th>28x10</th>\n",
              "      <th>28x11</th>\n",
              "      <th>28x12</th>\n",
              "      <th>28x13</th>\n",
              "      <th>28x14</th>\n",
              "      <th>28x15</th>\n",
              "      <th>28x16</th>\n",
              "      <th>28x17</th>\n",
              "      <th>28x18</th>\n",
              "      <th>28x19</th>\n",
              "      <th>28x20</th>\n",
              "      <th>28x21</th>\n",
              "      <th>28x22</th>\n",
              "      <th>28x23</th>\n",
              "      <th>28x24</th>\n",
              "      <th>28x25</th>\n",
              "      <th>28x26</th>\n",
              "      <th>28x27</th>\n",
              "      <th>28x28</th>\n",
              "    </tr>\n",
              "  </thead>\n",
              "  <tbody>\n",
              "    <tr>\n",
              "      <th>0</th>\n",
              "      <td>5</td>\n",
              "      <td>0</td>\n",
              "      <td>0</td>\n",
              "      <td>0</td>\n",
              "      <td>0</td>\n",
              "      <td>0</td>\n",
              "      <td>0</td>\n",
              "      <td>0</td>\n",
              "      <td>0</td>\n",
              "      <td>0</td>\n",
              "      <td>0</td>\n",
              "      <td>0</td>\n",
              "      <td>0</td>\n",
              "      <td>0</td>\n",
              "      <td>0</td>\n",
              "      <td>0</td>\n",
              "      <td>0</td>\n",
              "      <td>0</td>\n",
              "      <td>0</td>\n",
              "      <td>0</td>\n",
              "      <td>0</td>\n",
              "      <td>0</td>\n",
              "      <td>0</td>\n",
              "      <td>0</td>\n",
              "      <td>0</td>\n",
              "      <td>0</td>\n",
              "      <td>0</td>\n",
              "      <td>0</td>\n",
              "      <td>0</td>\n",
              "      <td>0</td>\n",
              "      <td>0</td>\n",
              "      <td>0</td>\n",
              "      <td>0</td>\n",
              "      <td>0</td>\n",
              "      <td>0</td>\n",
              "      <td>0</td>\n",
              "      <td>0</td>\n",
              "      <td>0</td>\n",
              "      <td>0</td>\n",
              "      <td>0</td>\n",
              "      <td>...</td>\n",
              "      <td>0</td>\n",
              "      <td>0</td>\n",
              "      <td>0</td>\n",
              "      <td>0</td>\n",
              "      <td>0</td>\n",
              "      <td>0</td>\n",
              "      <td>0</td>\n",
              "      <td>0</td>\n",
              "      <td>0</td>\n",
              "      <td>0</td>\n",
              "      <td>0</td>\n",
              "      <td>0</td>\n",
              "      <td>0</td>\n",
              "      <td>0</td>\n",
              "      <td>0</td>\n",
              "      <td>0</td>\n",
              "      <td>0</td>\n",
              "      <td>0</td>\n",
              "      <td>0</td>\n",
              "      <td>0</td>\n",
              "      <td>0</td>\n",
              "      <td>0</td>\n",
              "      <td>0</td>\n",
              "      <td>0</td>\n",
              "      <td>0</td>\n",
              "      <td>0</td>\n",
              "      <td>0</td>\n",
              "      <td>0</td>\n",
              "      <td>0</td>\n",
              "      <td>0</td>\n",
              "      <td>0</td>\n",
              "      <td>0</td>\n",
              "      <td>0</td>\n",
              "      <td>0</td>\n",
              "      <td>0</td>\n",
              "      <td>0</td>\n",
              "      <td>0</td>\n",
              "      <td>0</td>\n",
              "      <td>0</td>\n",
              "      <td>0</td>\n",
              "    </tr>\n",
              "    <tr>\n",
              "      <th>1</th>\n",
              "      <td>0</td>\n",
              "      <td>0</td>\n",
              "      <td>0</td>\n",
              "      <td>0</td>\n",
              "      <td>0</td>\n",
              "      <td>0</td>\n",
              "      <td>0</td>\n",
              "      <td>0</td>\n",
              "      <td>0</td>\n",
              "      <td>0</td>\n",
              "      <td>0</td>\n",
              "      <td>0</td>\n",
              "      <td>0</td>\n",
              "      <td>0</td>\n",
              "      <td>0</td>\n",
              "      <td>0</td>\n",
              "      <td>0</td>\n",
              "      <td>0</td>\n",
              "      <td>0</td>\n",
              "      <td>0</td>\n",
              "      <td>0</td>\n",
              "      <td>0</td>\n",
              "      <td>0</td>\n",
              "      <td>0</td>\n",
              "      <td>0</td>\n",
              "      <td>0</td>\n",
              "      <td>0</td>\n",
              "      <td>0</td>\n",
              "      <td>0</td>\n",
              "      <td>0</td>\n",
              "      <td>0</td>\n",
              "      <td>0</td>\n",
              "      <td>0</td>\n",
              "      <td>0</td>\n",
              "      <td>0</td>\n",
              "      <td>0</td>\n",
              "      <td>0</td>\n",
              "      <td>0</td>\n",
              "      <td>0</td>\n",
              "      <td>0</td>\n",
              "      <td>...</td>\n",
              "      <td>0</td>\n",
              "      <td>0</td>\n",
              "      <td>0</td>\n",
              "      <td>0</td>\n",
              "      <td>0</td>\n",
              "      <td>0</td>\n",
              "      <td>0</td>\n",
              "      <td>0</td>\n",
              "      <td>0</td>\n",
              "      <td>0</td>\n",
              "      <td>0</td>\n",
              "      <td>0</td>\n",
              "      <td>0</td>\n",
              "      <td>0</td>\n",
              "      <td>0</td>\n",
              "      <td>0</td>\n",
              "      <td>0</td>\n",
              "      <td>0</td>\n",
              "      <td>0</td>\n",
              "      <td>0</td>\n",
              "      <td>0</td>\n",
              "      <td>0</td>\n",
              "      <td>0</td>\n",
              "      <td>0</td>\n",
              "      <td>0</td>\n",
              "      <td>0</td>\n",
              "      <td>0</td>\n",
              "      <td>0</td>\n",
              "      <td>0</td>\n",
              "      <td>0</td>\n",
              "      <td>0</td>\n",
              "      <td>0</td>\n",
              "      <td>0</td>\n",
              "      <td>0</td>\n",
              "      <td>0</td>\n",
              "      <td>0</td>\n",
              "      <td>0</td>\n",
              "      <td>0</td>\n",
              "      <td>0</td>\n",
              "      <td>0</td>\n",
              "    </tr>\n",
              "    <tr>\n",
              "      <th>2</th>\n",
              "      <td>4</td>\n",
              "      <td>0</td>\n",
              "      <td>0</td>\n",
              "      <td>0</td>\n",
              "      <td>0</td>\n",
              "      <td>0</td>\n",
              "      <td>0</td>\n",
              "      <td>0</td>\n",
              "      <td>0</td>\n",
              "      <td>0</td>\n",
              "      <td>0</td>\n",
              "      <td>0</td>\n",
              "      <td>0</td>\n",
              "      <td>0</td>\n",
              "      <td>0</td>\n",
              "      <td>0</td>\n",
              "      <td>0</td>\n",
              "      <td>0</td>\n",
              "      <td>0</td>\n",
              "      <td>0</td>\n",
              "      <td>0</td>\n",
              "      <td>0</td>\n",
              "      <td>0</td>\n",
              "      <td>0</td>\n",
              "      <td>0</td>\n",
              "      <td>0</td>\n",
              "      <td>0</td>\n",
              "      <td>0</td>\n",
              "      <td>0</td>\n",
              "      <td>0</td>\n",
              "      <td>0</td>\n",
              "      <td>0</td>\n",
              "      <td>0</td>\n",
              "      <td>0</td>\n",
              "      <td>0</td>\n",
              "      <td>0</td>\n",
              "      <td>0</td>\n",
              "      <td>0</td>\n",
              "      <td>0</td>\n",
              "      <td>0</td>\n",
              "      <td>...</td>\n",
              "      <td>0</td>\n",
              "      <td>0</td>\n",
              "      <td>0</td>\n",
              "      <td>0</td>\n",
              "      <td>0</td>\n",
              "      <td>0</td>\n",
              "      <td>0</td>\n",
              "      <td>0</td>\n",
              "      <td>0</td>\n",
              "      <td>0</td>\n",
              "      <td>0</td>\n",
              "      <td>0</td>\n",
              "      <td>0</td>\n",
              "      <td>0</td>\n",
              "      <td>0</td>\n",
              "      <td>0</td>\n",
              "      <td>0</td>\n",
              "      <td>0</td>\n",
              "      <td>0</td>\n",
              "      <td>0</td>\n",
              "      <td>0</td>\n",
              "      <td>0</td>\n",
              "      <td>0</td>\n",
              "      <td>0</td>\n",
              "      <td>0</td>\n",
              "      <td>0</td>\n",
              "      <td>0</td>\n",
              "      <td>0</td>\n",
              "      <td>0</td>\n",
              "      <td>0</td>\n",
              "      <td>0</td>\n",
              "      <td>0</td>\n",
              "      <td>0</td>\n",
              "      <td>0</td>\n",
              "      <td>0</td>\n",
              "      <td>0</td>\n",
              "      <td>0</td>\n",
              "      <td>0</td>\n",
              "      <td>0</td>\n",
              "      <td>0</td>\n",
              "    </tr>\n",
              "    <tr>\n",
              "      <th>3</th>\n",
              "      <td>1</td>\n",
              "      <td>0</td>\n",
              "      <td>0</td>\n",
              "      <td>0</td>\n",
              "      <td>0</td>\n",
              "      <td>0</td>\n",
              "      <td>0</td>\n",
              "      <td>0</td>\n",
              "      <td>0</td>\n",
              "      <td>0</td>\n",
              "      <td>0</td>\n",
              "      <td>0</td>\n",
              "      <td>0</td>\n",
              "      <td>0</td>\n",
              "      <td>0</td>\n",
              "      <td>0</td>\n",
              "      <td>0</td>\n",
              "      <td>0</td>\n",
              "      <td>0</td>\n",
              "      <td>0</td>\n",
              "      <td>0</td>\n",
              "      <td>0</td>\n",
              "      <td>0</td>\n",
              "      <td>0</td>\n",
              "      <td>0</td>\n",
              "      <td>0</td>\n",
              "      <td>0</td>\n",
              "      <td>0</td>\n",
              "      <td>0</td>\n",
              "      <td>0</td>\n",
              "      <td>0</td>\n",
              "      <td>0</td>\n",
              "      <td>0</td>\n",
              "      <td>0</td>\n",
              "      <td>0</td>\n",
              "      <td>0</td>\n",
              "      <td>0</td>\n",
              "      <td>0</td>\n",
              "      <td>0</td>\n",
              "      <td>0</td>\n",
              "      <td>...</td>\n",
              "      <td>0</td>\n",
              "      <td>0</td>\n",
              "      <td>0</td>\n",
              "      <td>0</td>\n",
              "      <td>0</td>\n",
              "      <td>0</td>\n",
              "      <td>0</td>\n",
              "      <td>0</td>\n",
              "      <td>0</td>\n",
              "      <td>0</td>\n",
              "      <td>0</td>\n",
              "      <td>0</td>\n",
              "      <td>0</td>\n",
              "      <td>0</td>\n",
              "      <td>0</td>\n",
              "      <td>0</td>\n",
              "      <td>0</td>\n",
              "      <td>0</td>\n",
              "      <td>0</td>\n",
              "      <td>0</td>\n",
              "      <td>0</td>\n",
              "      <td>0</td>\n",
              "      <td>0</td>\n",
              "      <td>0</td>\n",
              "      <td>0</td>\n",
              "      <td>0</td>\n",
              "      <td>0</td>\n",
              "      <td>0</td>\n",
              "      <td>0</td>\n",
              "      <td>0</td>\n",
              "      <td>0</td>\n",
              "      <td>0</td>\n",
              "      <td>0</td>\n",
              "      <td>0</td>\n",
              "      <td>0</td>\n",
              "      <td>0</td>\n",
              "      <td>0</td>\n",
              "      <td>0</td>\n",
              "      <td>0</td>\n",
              "      <td>0</td>\n",
              "    </tr>\n",
              "    <tr>\n",
              "      <th>4</th>\n",
              "      <td>9</td>\n",
              "      <td>0</td>\n",
              "      <td>0</td>\n",
              "      <td>0</td>\n",
              "      <td>0</td>\n",
              "      <td>0</td>\n",
              "      <td>0</td>\n",
              "      <td>0</td>\n",
              "      <td>0</td>\n",
              "      <td>0</td>\n",
              "      <td>0</td>\n",
              "      <td>0</td>\n",
              "      <td>0</td>\n",
              "      <td>0</td>\n",
              "      <td>0</td>\n",
              "      <td>0</td>\n",
              "      <td>0</td>\n",
              "      <td>0</td>\n",
              "      <td>0</td>\n",
              "      <td>0</td>\n",
              "      <td>0</td>\n",
              "      <td>0</td>\n",
              "      <td>0</td>\n",
              "      <td>0</td>\n",
              "      <td>0</td>\n",
              "      <td>0</td>\n",
              "      <td>0</td>\n",
              "      <td>0</td>\n",
              "      <td>0</td>\n",
              "      <td>0</td>\n",
              "      <td>0</td>\n",
              "      <td>0</td>\n",
              "      <td>0</td>\n",
              "      <td>0</td>\n",
              "      <td>0</td>\n",
              "      <td>0</td>\n",
              "      <td>0</td>\n",
              "      <td>0</td>\n",
              "      <td>0</td>\n",
              "      <td>0</td>\n",
              "      <td>...</td>\n",
              "      <td>147</td>\n",
              "      <td>252</td>\n",
              "      <td>42</td>\n",
              "      <td>0</td>\n",
              "      <td>0</td>\n",
              "      <td>0</td>\n",
              "      <td>0</td>\n",
              "      <td>0</td>\n",
              "      <td>0</td>\n",
              "      <td>0</td>\n",
              "      <td>0</td>\n",
              "      <td>0</td>\n",
              "      <td>0</td>\n",
              "      <td>0</td>\n",
              "      <td>0</td>\n",
              "      <td>0</td>\n",
              "      <td>0</td>\n",
              "      <td>0</td>\n",
              "      <td>0</td>\n",
              "      <td>0</td>\n",
              "      <td>0</td>\n",
              "      <td>0</td>\n",
              "      <td>0</td>\n",
              "      <td>0</td>\n",
              "      <td>0</td>\n",
              "      <td>0</td>\n",
              "      <td>0</td>\n",
              "      <td>0</td>\n",
              "      <td>0</td>\n",
              "      <td>0</td>\n",
              "      <td>0</td>\n",
              "      <td>0</td>\n",
              "      <td>0</td>\n",
              "      <td>0</td>\n",
              "      <td>0</td>\n",
              "      <td>0</td>\n",
              "      <td>0</td>\n",
              "      <td>0</td>\n",
              "      <td>0</td>\n",
              "      <td>0</td>\n",
              "    </tr>\n",
              "  </tbody>\n",
              "</table>\n",
              "<p>5 rows × 785 columns</p>\n",
              "</div>"
            ],
            "text/plain": [
              "   label  1x1  1x2  1x3  1x4  1x5  ...  28x23  28x24  28x25  28x26  28x27  28x28\n",
              "0      5    0    0    0    0    0  ...      0      0      0      0      0      0\n",
              "1      0    0    0    0    0    0  ...      0      0      0      0      0      0\n",
              "2      4    0    0    0    0    0  ...      0      0      0      0      0      0\n",
              "3      1    0    0    0    0    0  ...      0      0      0      0      0      0\n",
              "4      9    0    0    0    0    0  ...      0      0      0      0      0      0\n",
              "\n",
              "[5 rows x 785 columns]"
            ]
          },
          "metadata": {
            "tags": []
          },
          "execution_count": 3
        }
      ]
    },
    {
      "cell_type": "code",
      "metadata": {
        "id": "9HU7V01qttd-"
      },
      "source": [
        "x=data.iloc[:,1:].values\n",
        "x=x.reshape(len(x),28,28,1)\n",
        "y=data.iloc[:,1].values"
      ],
      "execution_count": 7,
      "outputs": []
    },
    {
      "cell_type": "code",
      "metadata": {
        "id": "L87LppiYHFhX"
      },
      "source": [
        "x=x/255"
      ],
      "execution_count": 13,
      "outputs": []
    },
    {
      "cell_type": "code",
      "metadata": {
        "id": "RQSkSNM9H95q",
        "outputId": "86c90a93-5a06-4128-aaf5-c93509c42cf4",
        "colab": {
          "base_uri": "https://localhost:8080/",
          "height": 34
        }
      },
      "source": [
        "x.shape"
      ],
      "execution_count": 17,
      "outputs": [
        {
          "output_type": "execute_result",
          "data": {
            "text/plain": [
              "(60000, 28, 28, 1)"
            ]
          },
          "metadata": {
            "tags": []
          },
          "execution_count": 17
        }
      ]
    },
    {
      "cell_type": "code",
      "metadata": {
        "id": "FIZ6QGBVttid",
        "outputId": "99531d0b-5d4c-483d-8b96-78b84c2c8b27",
        "colab": {
          "base_uri": "https://localhost:8080/",
          "height": 101
        }
      },
      "source": [
        "data.columns"
      ],
      "execution_count": 8,
      "outputs": [
        {
          "output_type": "execute_result",
          "data": {
            "text/plain": [
              "Index(['label', '1x1', '1x2', '1x3', '1x4', '1x5', '1x6', '1x7', '1x8', '1x9',\n",
              "       ...\n",
              "       '28x19', '28x20', '28x21', '28x22', '28x23', '28x24', '28x25', '28x26',\n",
              "       '28x27', '28x28'],\n",
              "      dtype='object', length=785)"
            ]
          },
          "metadata": {
            "tags": []
          },
          "execution_count": 8
        }
      ]
    },
    {
      "cell_type": "code",
      "metadata": {
        "id": "sOKMGmB_ttnH"
      },
      "source": [
        "model = Sequential()\n",
        "model.add(Convolution2D(32, kernel_size=(3, 3), activation='relu', kernel_initializer='he_normal', input_shape=(28,28,1)))\n",
        "model.add(Convolution2D(16, kernel_size=(3, 3), activation='relu', kernel_initializer='he_normal'))\n",
        "model.add(Convolution2D(8, kernel_size=(3, 3), activation='relu', kernel_initializer='he_normal'))\n",
        "model.add(Convolution2DTranspose(8, kernel_size=(3,3), activation='relu', kernel_initializer='he_normal'))\n",
        "model.add(Convolution2DTranspose(16, kernel_size=(3,3), activation='relu', kernel_initializer='he_normal'))\n",
        "model.add(Convolution2DTranspose(32, kernel_size=(3,3), activation='relu', kernel_initializer='he_normal'))\n",
        "model.add(Convolution2D(1, kernel_size=(3, 3), activation='sigmoid', padding='same'))"
      ],
      "execution_count": 9,
      "outputs": []
    },
    {
      "cell_type": "code",
      "metadata": {
        "id": "PpJQJ9Ngtts5",
        "outputId": "faa60c79-0145-48dc-e5f9-f8458ab622a7",
        "colab": {
          "base_uri": "https://localhost:8080/",
          "height": 386
        }
      },
      "source": [
        "model.summary()"
      ],
      "execution_count": 10,
      "outputs": [
        {
          "output_type": "stream",
          "text": [
            "Model: \"sequential\"\n",
            "_________________________________________________________________\n",
            "Layer (type)                 Output Shape              Param #   \n",
            "=================================================================\n",
            "conv2d (Conv2D)              (None, 26, 26, 32)        320       \n",
            "_________________________________________________________________\n",
            "conv2d_1 (Conv2D)            (None, 24, 24, 16)        4624      \n",
            "_________________________________________________________________\n",
            "conv2d_2 (Conv2D)            (None, 22, 22, 8)         1160      \n",
            "_________________________________________________________________\n",
            "conv2d_transpose (Conv2DTran (None, 24, 24, 8)         584       \n",
            "_________________________________________________________________\n",
            "conv2d_transpose_1 (Conv2DTr (None, 26, 26, 16)        1168      \n",
            "_________________________________________________________________\n",
            "conv2d_transpose_2 (Conv2DTr (None, 28, 28, 32)        4640      \n",
            "_________________________________________________________________\n",
            "conv2d_3 (Conv2D)            (None, 28, 28, 1)         289       \n",
            "=================================================================\n",
            "Total params: 12,785\n",
            "Trainable params: 12,785\n",
            "Non-trainable params: 0\n",
            "_________________________________________________________________\n"
          ],
          "name": "stdout"
        }
      ]
    },
    {
      "cell_type": "code",
      "metadata": {
        "id": "rG4EFO74ttv8"
      },
      "source": [
        "model.compile(loss='categorical_crossentropy',optimizer='adam',metrics=['accuracy'])"
      ],
      "execution_count": 11,
      "outputs": []
    },
    {
      "cell_type": "code",
      "metadata": {
        "id": "vJQevmOXttzX",
        "outputId": "eaf8f857-f28a-4ad6-f7ce-013549aaa2ca",
        "colab": {
          "base_uri": "https://localhost:8080/",
          "height": 1000
        }
      },
      "source": [
        "model.fit(x[:50000],x[:50000],epochs=100,batch_size=64)"
      ],
      "execution_count": 36,
      "outputs": [
        {
          "output_type": "stream",
          "text": [
            "Epoch 1/100\n",
            "782/782 [==============================] - 5s 6ms/step - loss: 1.5612e-08 - accuracy: 0.2966\n",
            "Epoch 2/100\n",
            "782/782 [==============================] - 5s 6ms/step - loss: 1.5612e-08 - accuracy: 0.2966\n",
            "Epoch 3/100\n",
            "782/782 [==============================] - 5s 6ms/step - loss: 1.5612e-08 - accuracy: 0.2966\n",
            "Epoch 4/100\n",
            "782/782 [==============================] - 5s 6ms/step - loss: 1.5612e-08 - accuracy: 0.2966\n",
            "Epoch 5/100\n",
            "782/782 [==============================] - 5s 6ms/step - loss: 1.5612e-08 - accuracy: 0.2966\n",
            "Epoch 6/100\n",
            "782/782 [==============================] - 5s 6ms/step - loss: 1.5612e-08 - accuracy: 0.2966\n",
            "Epoch 7/100\n",
            "782/782 [==============================] - 5s 6ms/step - loss: 1.5612e-08 - accuracy: 0.2966\n",
            "Epoch 8/100\n",
            "782/782 [==============================] - 5s 6ms/step - loss: 1.5612e-08 - accuracy: 0.2966\n",
            "Epoch 9/100\n",
            "782/782 [==============================] - 5s 6ms/step - loss: 1.5612e-08 - accuracy: 0.2966\n",
            "Epoch 10/100\n",
            "782/782 [==============================] - 5s 6ms/step - loss: 1.5612e-08 - accuracy: 0.2966\n",
            "Epoch 11/100\n",
            "782/782 [==============================] - 5s 6ms/step - loss: 1.5612e-08 - accuracy: 0.2966\n",
            "Epoch 12/100\n",
            "782/782 [==============================] - 5s 6ms/step - loss: 1.5612e-08 - accuracy: 0.2966\n",
            "Epoch 13/100\n",
            "782/782 [==============================] - 5s 6ms/step - loss: 1.5612e-08 - accuracy: 0.2966\n",
            "Epoch 14/100\n",
            "782/782 [==============================] - 5s 6ms/step - loss: 1.5612e-08 - accuracy: 0.2966\n",
            "Epoch 15/100\n",
            "782/782 [==============================] - 5s 6ms/step - loss: 1.5612e-08 - accuracy: 0.2966\n",
            "Epoch 16/100\n",
            "782/782 [==============================] - 5s 6ms/step - loss: 1.5612e-08 - accuracy: 0.2966\n",
            "Epoch 17/100\n",
            "782/782 [==============================] - 5s 6ms/step - loss: 1.5612e-08 - accuracy: 0.2966\n",
            "Epoch 18/100\n",
            "782/782 [==============================] - 5s 6ms/step - loss: 1.5612e-08 - accuracy: 0.2966\n",
            "Epoch 19/100\n",
            "782/782 [==============================] - 5s 6ms/step - loss: 1.5612e-08 - accuracy: 0.2966\n",
            "Epoch 20/100\n",
            "782/782 [==============================] - 5s 6ms/step - loss: 1.5612e-08 - accuracy: 0.2966\n",
            "Epoch 21/100\n",
            "782/782 [==============================] - 5s 6ms/step - loss: 1.5612e-08 - accuracy: 0.2966\n",
            "Epoch 22/100\n",
            "782/782 [==============================] - 5s 6ms/step - loss: 1.5612e-08 - accuracy: 0.2966\n",
            "Epoch 23/100\n",
            "782/782 [==============================] - 5s 6ms/step - loss: 1.5612e-08 - accuracy: 0.2966\n",
            "Epoch 24/100\n",
            "782/782 [==============================] - 5s 6ms/step - loss: 1.5612e-08 - accuracy: 0.2966\n",
            "Epoch 25/100\n",
            "782/782 [==============================] - 5s 6ms/step - loss: 1.5612e-08 - accuracy: 0.2966\n",
            "Epoch 26/100\n",
            "782/782 [==============================] - 5s 6ms/step - loss: 1.5612e-08 - accuracy: 0.2966\n",
            "Epoch 27/100\n",
            "782/782 [==============================] - 5s 6ms/step - loss: 1.5612e-08 - accuracy: 0.2966\n",
            "Epoch 28/100\n",
            "782/782 [==============================] - 5s 6ms/step - loss: 1.5612e-08 - accuracy: 0.2966\n",
            "Epoch 29/100\n",
            "782/782 [==============================] - 5s 6ms/step - loss: 1.5612e-08 - accuracy: 0.2966\n",
            "Epoch 30/100\n",
            "782/782 [==============================] - 5s 6ms/step - loss: 1.5612e-08 - accuracy: 0.2966\n",
            "Epoch 31/100\n",
            "782/782 [==============================] - 5s 6ms/step - loss: 1.5612e-08 - accuracy: 0.2966\n",
            "Epoch 32/100\n",
            "782/782 [==============================] - 5s 6ms/step - loss: 1.5612e-08 - accuracy: 0.2966\n",
            "Epoch 33/100\n",
            "782/782 [==============================] - 5s 6ms/step - loss: 1.5612e-08 - accuracy: 0.2966\n",
            "Epoch 34/100\n",
            "782/782 [==============================] - 5s 6ms/step - loss: 1.5612e-08 - accuracy: 0.2966\n",
            "Epoch 35/100\n",
            "782/782 [==============================] - 5s 6ms/step - loss: 1.5612e-08 - accuracy: 0.2966\n",
            "Epoch 36/100\n",
            "782/782 [==============================] - 5s 6ms/step - loss: 1.5612e-08 - accuracy: 0.2966\n",
            "Epoch 37/100\n",
            "782/782 [==============================] - 5s 6ms/step - loss: 1.5612e-08 - accuracy: 0.2966\n",
            "Epoch 38/100\n",
            "782/782 [==============================] - 5s 6ms/step - loss: 1.5612e-08 - accuracy: 0.2966\n",
            "Epoch 39/100\n",
            "782/782 [==============================] - 5s 6ms/step - loss: 1.5612e-08 - accuracy: 0.2966\n",
            "Epoch 40/100\n",
            "782/782 [==============================] - 5s 6ms/step - loss: 1.5612e-08 - accuracy: 0.2966\n",
            "Epoch 41/100\n",
            "782/782 [==============================] - 5s 6ms/step - loss: 1.5612e-08 - accuracy: 0.2966\n",
            "Epoch 42/100\n",
            "782/782 [==============================] - 5s 6ms/step - loss: 1.5612e-08 - accuracy: 0.2966\n",
            "Epoch 43/100\n",
            "782/782 [==============================] - 5s 6ms/step - loss: 1.5612e-08 - accuracy: 0.2966\n",
            "Epoch 44/100\n",
            "782/782 [==============================] - 5s 6ms/step - loss: 1.5612e-08 - accuracy: 0.2966\n",
            "Epoch 45/100\n",
            "782/782 [==============================] - 5s 6ms/step - loss: 1.5612e-08 - accuracy: 0.2966\n",
            "Epoch 46/100\n",
            "782/782 [==============================] - 5s 6ms/step - loss: 1.5612e-08 - accuracy: 0.2966\n",
            "Epoch 47/100\n",
            "782/782 [==============================] - 5s 6ms/step - loss: 1.5612e-08 - accuracy: 0.2966\n",
            "Epoch 48/100\n",
            "782/782 [==============================] - 5s 6ms/step - loss: 1.5612e-08 - accuracy: 0.2966\n",
            "Epoch 49/100\n",
            "782/782 [==============================] - 5s 6ms/step - loss: 1.5612e-08 - accuracy: 0.2966\n",
            "Epoch 50/100\n",
            "782/782 [==============================] - 5s 6ms/step - loss: 1.5612e-08 - accuracy: 0.2966\n",
            "Epoch 51/100\n",
            "782/782 [==============================] - 5s 6ms/step - loss: 1.5612e-08 - accuracy: 0.2966\n",
            "Epoch 52/100\n",
            "782/782 [==============================] - 5s 6ms/step - loss: 1.5612e-08 - accuracy: 0.2966\n",
            "Epoch 53/100\n",
            "782/782 [==============================] - 5s 6ms/step - loss: 1.5612e-08 - accuracy: 0.2966\n",
            "Epoch 54/100\n",
            "782/782 [==============================] - 5s 6ms/step - loss: 1.5612e-08 - accuracy: 0.2966\n",
            "Epoch 55/100\n",
            "782/782 [==============================] - 5s 6ms/step - loss: 1.5612e-08 - accuracy: 0.2966\n",
            "Epoch 56/100\n",
            "782/782 [==============================] - 5s 6ms/step - loss: 1.5612e-08 - accuracy: 0.2966\n",
            "Epoch 57/100\n",
            "782/782 [==============================] - 5s 6ms/step - loss: 1.5612e-08 - accuracy: 0.2966\n",
            "Epoch 58/100\n",
            "782/782 [==============================] - 5s 6ms/step - loss: 1.5612e-08 - accuracy: 0.2966\n",
            "Epoch 59/100\n",
            "782/782 [==============================] - 5s 6ms/step - loss: 1.5612e-08 - accuracy: 0.2966\n",
            "Epoch 60/100\n",
            "782/782 [==============================] - 5s 6ms/step - loss: 1.5612e-08 - accuracy: 0.2966\n",
            "Epoch 61/100\n",
            "782/782 [==============================] - 5s 6ms/step - loss: 1.5612e-08 - accuracy: 0.2966\n",
            "Epoch 62/100\n",
            "782/782 [==============================] - 5s 6ms/step - loss: 1.5612e-08 - accuracy: 0.2966\n",
            "Epoch 63/100\n",
            "782/782 [==============================] - 5s 6ms/step - loss: 1.5612e-08 - accuracy: 0.2966\n",
            "Epoch 64/100\n",
            "782/782 [==============================] - 5s 6ms/step - loss: 1.5612e-08 - accuracy: 0.2966\n",
            "Epoch 65/100\n",
            "782/782 [==============================] - 5s 6ms/step - loss: 1.5612e-08 - accuracy: 0.2966\n",
            "Epoch 66/100\n",
            "782/782 [==============================] - 5s 6ms/step - loss: 1.5612e-08 - accuracy: 0.2966\n",
            "Epoch 67/100\n",
            "782/782 [==============================] - 5s 6ms/step - loss: 1.5612e-08 - accuracy: 0.2966\n",
            "Epoch 68/100\n",
            "782/782 [==============================] - 5s 6ms/step - loss: 1.5612e-08 - accuracy: 0.2966\n",
            "Epoch 69/100\n",
            "782/782 [==============================] - 5s 6ms/step - loss: 1.5612e-08 - accuracy: 0.2966\n",
            "Epoch 70/100\n",
            "782/782 [==============================] - 5s 6ms/step - loss: 1.5612e-08 - accuracy: 0.2966\n",
            "Epoch 71/100\n",
            "782/782 [==============================] - 5s 6ms/step - loss: 1.5612e-08 - accuracy: 0.2966\n",
            "Epoch 72/100\n",
            "782/782 [==============================] - 5s 6ms/step - loss: 1.5612e-08 - accuracy: 0.2966\n",
            "Epoch 73/100\n",
            "782/782 [==============================] - 5s 6ms/step - loss: 1.5612e-08 - accuracy: 0.2966\n",
            "Epoch 74/100\n",
            "782/782 [==============================] - 5s 6ms/step - loss: 1.5612e-08 - accuracy: 0.2966\n",
            "Epoch 75/100\n",
            "782/782 [==============================] - 5s 6ms/step - loss: 1.5612e-08 - accuracy: 0.2966\n",
            "Epoch 76/100\n",
            "782/782 [==============================] - 5s 6ms/step - loss: 1.5612e-08 - accuracy: 0.2966\n",
            "Epoch 77/100\n",
            "782/782 [==============================] - 5s 6ms/step - loss: 1.5612e-08 - accuracy: 0.2966\n",
            "Epoch 78/100\n",
            "782/782 [==============================] - 5s 6ms/step - loss: 1.5612e-08 - accuracy: 0.2966\n",
            "Epoch 79/100\n",
            "782/782 [==============================] - 5s 6ms/step - loss: 1.5612e-08 - accuracy: 0.2966\n",
            "Epoch 80/100\n",
            "782/782 [==============================] - 5s 6ms/step - loss: 1.5612e-08 - accuracy: 0.2966\n",
            "Epoch 81/100\n",
            "782/782 [==============================] - 5s 6ms/step - loss: 1.5612e-08 - accuracy: 0.2966\n",
            "Epoch 82/100\n",
            "782/782 [==============================] - 5s 6ms/step - loss: 1.5612e-08 - accuracy: 0.2966\n",
            "Epoch 83/100\n",
            "782/782 [==============================] - 5s 6ms/step - loss: 1.5612e-08 - accuracy: 0.2966\n",
            "Epoch 84/100\n",
            "782/782 [==============================] - 5s 6ms/step - loss: 1.5612e-08 - accuracy: 0.2966\n",
            "Epoch 85/100\n",
            "782/782 [==============================] - 5s 6ms/step - loss: 1.5612e-08 - accuracy: 0.2966\n",
            "Epoch 86/100\n",
            "782/782 [==============================] - 5s 6ms/step - loss: 1.5612e-08 - accuracy: 0.2966\n",
            "Epoch 87/100\n",
            "782/782 [==============================] - 5s 6ms/step - loss: 1.5612e-08 - accuracy: 0.2966\n",
            "Epoch 88/100\n",
            "782/782 [==============================] - 5s 6ms/step - loss: 1.5612e-08 - accuracy: 0.2966\n",
            "Epoch 89/100\n",
            "782/782 [==============================] - 5s 6ms/step - loss: 1.5612e-08 - accuracy: 0.2966\n",
            "Epoch 90/100\n",
            "782/782 [==============================] - 5s 6ms/step - loss: 1.5612e-08 - accuracy: 0.2966\n",
            "Epoch 91/100\n",
            "782/782 [==============================] - 5s 6ms/step - loss: 1.5612e-08 - accuracy: 0.2966\n",
            "Epoch 92/100\n",
            "782/782 [==============================] - 5s 6ms/step - loss: 1.5612e-08 - accuracy: 0.2966\n",
            "Epoch 93/100\n",
            "782/782 [==============================] - 5s 6ms/step - loss: 1.5612e-08 - accuracy: 0.2966\n",
            "Epoch 94/100\n",
            "782/782 [==============================] - 5s 6ms/step - loss: 1.5612e-08 - accuracy: 0.2966\n",
            "Epoch 95/100\n",
            "782/782 [==============================] - 5s 6ms/step - loss: 1.5612e-08 - accuracy: 0.2966\n",
            "Epoch 96/100\n",
            "782/782 [==============================] - 5s 6ms/step - loss: 1.5612e-08 - accuracy: 0.2966\n",
            "Epoch 97/100\n",
            "782/782 [==============================] - 5s 6ms/step - loss: 1.5612e-08 - accuracy: 0.2966\n",
            "Epoch 98/100\n",
            "782/782 [==============================] - 5s 6ms/step - loss: 1.5612e-08 - accuracy: 0.2966\n",
            "Epoch 99/100\n",
            "782/782 [==============================] - 5s 6ms/step - loss: 1.5612e-08 - accuracy: 0.2966\n",
            "Epoch 100/100\n",
            "782/782 [==============================] - 5s 6ms/step - loss: 1.5612e-08 - accuracy: 0.2966\n"
          ],
          "name": "stdout"
        },
        {
          "output_type": "execute_result",
          "data": {
            "text/plain": [
              "<tensorflow.python.keras.callbacks.History at 0x7fcfc6a62e48>"
            ]
          },
          "metadata": {
            "tags": []
          },
          "execution_count": 36
        }
      ]
    },
    {
      "cell_type": "code",
      "metadata": {
        "id": "kW-TMVEyttrR"
      },
      "source": [
        "prediction=model.predict(x[50000:50002])"
      ],
      "execution_count": 21,
      "outputs": []
    },
    {
      "cell_type": "code",
      "metadata": {
        "id": "TssE1xfzttp4",
        "outputId": "d0541950-4bb2-43f6-c9a1-38d41535bd18",
        "colab": {
          "base_uri": "https://localhost:8080/",
          "height": 34
        }
      },
      "source": [
        "prediction.shape"
      ],
      "execution_count": 22,
      "outputs": [
        {
          "output_type": "execute_result",
          "data": {
            "text/plain": [
              "(2, 28, 28, 1)"
            ]
          },
          "metadata": {
            "tags": []
          },
          "execution_count": 22
        }
      ]
    },
    {
      "cell_type": "code",
      "metadata": {
        "id": "lLHKiE4bttk-"
      },
      "source": [
        "import matplotlib.pyplot as plt"
      ],
      "execution_count": 23,
      "outputs": []
    },
    {
      "cell_type": "code",
      "metadata": {
        "id": "7V8QCbQvttgm",
        "outputId": "ecd48c4a-e3c9-47ab-f32d-84f362660b75",
        "colab": {
          "base_uri": "https://localhost:8080/",
          "height": 1000
        }
      },
      "source": [
        "for i in range(50000,50010):\n",
        "  m=x[i].reshape(1,28,28,1)\n",
        "  plt.subplot(1,2,1)\n",
        "  plt.imshow(m.reshape(28,28),cmap=plt.cm.gray)\n",
        "  plt.subplot(1,2,2)\n",
        "  prediction=model.predict(m)\n",
        "  plt.imshow(prediction.reshape(28,28),cmap=plt.cm.gray)\n",
        "  plt.show()"
      ],
      "execution_count": 37,
      "outputs": [
        {
          "output_type": "display_data",
          "data": {
            "image/png": "[encoded data removed]",
            "text/plain": [
              "<Figure size 432x288 with 2 Axes>"
            ]
          },
          "metadata": {
            "tags": [],
            "needs_background": "light"
          }
        },
        {
          "output_type": "display_data",
          "data": {
            "image/png": "[encoded data removed]",
            "text/plain": [
              "<Figure size 432x288 with 2 Axes>"
            ]
          },
          "metadata": {
            "tags": [],
            "needs_background": "light"
          }
        },
        {
          "output_type": "display_data",
          "data": {
            "image/png": "[encoded data removed]",
            "text/plain": [
              "<Figure size 432x288 with 2 Axes>"
            ]
          },
          "metadata": {
            "tags": [],
            "needs_background": "light"
          }
        },
        {
          "output_type": "display_data",
          "data": {
            "image/png": "[encoded data removed]",
            "text/plain": [
              "<Figure size 432x288 with 2 Axes>"
            ]
          },
          "metadata": {
            "tags": [],
            "needs_background": "light"
          }
        },
        {
          "output_type": "display_data",
          "data": {
            "image/png": "[encoded data removed]",
            "text/plain": [
              "<Figure size 432x288 with 2 Axes>"
            ]
          },
          "metadata": {
            "tags": [],
            "needs_background": "light"
          }
        },
        {
          "output_type": "display_data",
          "data": {
            "image/png": "[encoded data removed]",
            "text/plain": [
              "<Figure size 432x288 with 2 Axes>"
            ]
          },
          "metadata": {
            "tags": [],
            "needs_background": "light"
          }
        },
        {
          "output_type": "display_data",
          "data": {
            "image/png": "[encoded data removed]",
            "text/plain": [
              "<Figure size 432x288 with 2 Axes>"
            ]
          },
          "metadata": {
            "tags": [],
            "needs_background": "light"
          }
        },
        {
          "output_type": "display_data",
          "data": {
            "image/png": "[encoded data removed]",
            "text/plain": [
              "<Figure size 432x288 with 2 Axes>"
            ]
          },
          "metadata": {
            "tags": [],
            "needs_background": "light"
          }
        },
        {
          "output_type": "display_data",
          "data": {
            "image/png": "[encoded data removed]",
            "text/plain": [
              "<Figure size 432x288 with 2 Axes>"
            ]
          },
          "metadata": {
            "tags": [],
            "needs_background": "light"
          }
        },
        {
          "output_type": "display_data",
          "data": {
            "image/png": "[encoded data removed]",
            "text/plain": [
              "<Figure size 432x288 with 2 Axes>"
            ]
          },
          "metadata": {
            "tags": [],
            "needs_background": "light"
          }
        }
      ]
    },
    {
      "cell_type": "code",
      "metadata": {
        "id": "GqIMYYDLWIDp"
      },
      "source": [
        "l=model.to_json()\n",
        "with open('autoencoder.json','w') as p:\n",
        "  p.write(l)\n",
        "model.save_weights('autoencoder.h5') "
      ],
      "execution_count": 50,
      "outputs": []
    }
  ]
}